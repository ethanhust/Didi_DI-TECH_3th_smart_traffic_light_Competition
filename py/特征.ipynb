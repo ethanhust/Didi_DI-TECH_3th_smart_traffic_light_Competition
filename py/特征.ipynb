{
 "cells": [
  {
   "cell_type": "code",
   "execution_count": 1,
   "metadata": {
    "collapsed": true
   },
   "outputs": [],
   "source": [
    "import pandas as pd\n",
    "import numpy as np\n",
    "\n",
    "from datetime import datetime\n",
    "\n",
    "from collections import Counter\n",
    "\n",
    "fpath='../比赛/轨迹数据.txt'"
   ]
  },
  {
   "cell_type": "code",
   "execution_count": 2,
   "metadata": {
    "collapsed": true
   },
   "outputs": [],
   "source": [
    "df=pd.read_csv(fpath)\n",
    "df=df.sort_values(by='time')"
   ]
  },
  {
   "cell_type": "code",
   "execution_count": 5,
   "metadata": {},
   "outputs": [
    {
     "data": {
      "text/plain": [
       "29194    1493852410\n",
       "24479    1493852411\n",
       "29195    1493852413\n",
       "24480    1493852414\n",
       "29196    1493852416\n",
       "Name: time, dtype: int64"
      ]
     },
     "execution_count": 5,
     "metadata": {},
     "output_type": "execute_result"
    }
   ],
   "source": [
    "df['time'].head()"
   ]
  },
  {
   "cell_type": "code",
   "execution_count": 6,
   "metadata": {},
   "outputs": [
    {
     "data": {
      "text/plain": [
       "571821    1494982796\n",
       "571670    1494982797\n",
       "591384    1494982798\n",
       "574937    1494982798\n",
       "571822    1494982799\n",
       "Name: time, dtype: int64"
      ]
     },
     "execution_count": 6,
     "metadata": {},
     "output_type": "execute_result"
    }
   ],
   "source": [
    "df['time'].tail()"
   ]
  },
  {
   "cell_type": "code",
   "execution_count": 3,
   "metadata": {},
   "outputs": [
    {
     "data": {
      "text/plain": [
       "(1493852410, 1494982799)"
      ]
     },
     "execution_count": 3,
     "metadata": {},
     "output_type": "execute_result"
    }
   ],
   "source": [
    "#开始时间,结束时间\n",
    "df['time'].min(),df['time'].max()"
   ]
  },
  {
   "cell_type": "code",
   "execution_count": 4,
   "metadata": {
    "collapsed": true
   },
   "outputs": [],
   "source": [
    "time_min=1493852410"
   ]
  },
  {
   "cell_type": "code",
   "execution_count": 5,
   "metadata": {},
   "outputs": [
    {
     "data": {
      "text/plain": [
       "29194    0\n",
       "24479    1\n",
       "29195    3\n",
       "24480    4\n",
       "29196    6\n",
       "Name: time2, dtype: int64"
      ]
     },
     "execution_count": 5,
     "metadata": {},
     "output_type": "execute_result"
    }
   ],
   "source": [
    "df['time2']=df['time']-time_min\n",
    "df['time2'].head()"
   ]
  },
  {
   "cell_type": "code",
   "execution_count": 6,
   "metadata": {},
   "outputs": [
    {
     "data": {
      "text/plain": [
       "1130389"
      ]
     },
     "execution_count": 6,
     "metadata": {},
     "output_type": "execute_result"
    }
   ],
   "source": [
    "df['time2'].max()"
   ]
  },
  {
   "cell_type": "code",
   "execution_count": 7,
   "metadata": {
    "collapsed": true
   },
   "outputs": [],
   "source": [
    "import pickle\n",
    "#写\n",
    "with open('df','wb') as f:\n",
    "    pickle.dump(df, f)#序列化"
   ]
  },
  {
   "cell_type": "code",
   "execution_count": 8,
   "metadata": {},
   "outputs": [
    {
     "data": {
      "text/html": [
       "<div>\n",
       "<style>\n",
       "    .dataframe thead tr:only-child th {\n",
       "        text-align: right;\n",
       "    }\n",
       "\n",
       "    .dataframe thead th {\n",
       "        text-align: left;\n",
       "    }\n",
       "\n",
       "    .dataframe tbody tr th {\n",
       "        vertical-align: top;\n",
       "    }\n",
       "</style>\n",
       "<table border=\"1\" class=\"dataframe\">\n",
       "  <thead>\n",
       "    <tr style=\"text-align: right;\">\n",
       "      <th></th>\n",
       "      <th>vehicle-id</th>\n",
       "      <th>time</th>\n",
       "      <th>x-coordinate</th>\n",
       "      <th>y-coordinate</th>\n",
       "      <th>speed</th>\n",
       "      <th>category</th>\n",
       "      <th>time2</th>\n",
       "    </tr>\n",
       "  </thead>\n",
       "  <tbody>\n",
       "    <tr>\n",
       "      <th>29194</th>\n",
       "      <td>c243b97c579b441827b59ade5f9c5c3b</td>\n",
       "      <td>1493852410</td>\n",
       "      <td>521579.616152</td>\n",
       "      <td>57525.893385</td>\n",
       "      <td>9.2</td>\n",
       "      <td>1</td>\n",
       "      <td>0</td>\n",
       "    </tr>\n",
       "    <tr>\n",
       "      <th>24479</th>\n",
       "      <td>f9643897f57a000c2facc2fe39de8947</td>\n",
       "      <td>1493852411</td>\n",
       "      <td>521461.647074</td>\n",
       "      <td>56693.716517</td>\n",
       "      <td>7.2</td>\n",
       "      <td>1</td>\n",
       "      <td>1</td>\n",
       "    </tr>\n",
       "    <tr>\n",
       "      <th>29195</th>\n",
       "      <td>c243b97c579b441827b59ade5f9c5c3b</td>\n",
       "      <td>1493852413</td>\n",
       "      <td>521575.164460</td>\n",
       "      <td>57498.213683</td>\n",
       "      <td>9.3</td>\n",
       "      <td>1</td>\n",
       "      <td>3</td>\n",
       "    </tr>\n",
       "    <tr>\n",
       "      <th>24480</th>\n",
       "      <td>f9643897f57a000c2facc2fe39de8947</td>\n",
       "      <td>1493852414</td>\n",
       "      <td>521466.098708</td>\n",
       "      <td>56716.931752</td>\n",
       "      <td>7.8</td>\n",
       "      <td>1</td>\n",
       "      <td>4</td>\n",
       "    </tr>\n",
       "    <tr>\n",
       "      <th>29196</th>\n",
       "      <td>c243b97c579b441827b59ade5f9c5c3b</td>\n",
       "      <td>1493852416</td>\n",
       "      <td>521570.712769</td>\n",
       "      <td>57467.855299</td>\n",
       "      <td>10.2</td>\n",
       "      <td>1</td>\n",
       "      <td>6</td>\n",
       "    </tr>\n",
       "  </tbody>\n",
       "</table>\n",
       "</div>"
      ],
      "text/plain": [
       "                             vehicle-id        time   x-coordinate  \\\n",
       "29194  c243b97c579b441827b59ade5f9c5c3b  1493852410  521579.616152   \n",
       "24479  f9643897f57a000c2facc2fe39de8947  1493852411  521461.647074   \n",
       "29195  c243b97c579b441827b59ade5f9c5c3b  1493852413  521575.164460   \n",
       "24480  f9643897f57a000c2facc2fe39de8947  1493852414  521466.098708   \n",
       "29196  c243b97c579b441827b59ade5f9c5c3b  1493852416  521570.712769   \n",
       "\n",
       "       y-coordinate  speed  category  time2  \n",
       "29194  57525.893385    9.2         1      0  \n",
       "24479  56693.716517    7.2         1      1  \n",
       "29195  57498.213683    9.3         1      3  \n",
       "24480  56716.931752    7.8         1      4  \n",
       "29196  57467.855299   10.2         1      6  "
      ]
     },
     "execution_count": 8,
     "metadata": {},
     "output_type": "execute_result"
    }
   ],
   "source": [
    "df.head()"
   ]
  },
  {
   "cell_type": "code",
   "execution_count": null,
   "metadata": {
    "collapsed": true
   },
   "outputs": [],
   "source": [
    ""
   ]
  }
 ],
 "metadata": {
  "kernelspec": {
   "display_name": "Python 3",
   "language": "python",
   "name": "python3"
  },
  "language_info": {
   "codemirror_mode": {
    "name": "ipython",
    "version": 3.0
   },
   "file_extension": ".py",
   "mimetype": "text/x-python",
   "name": "python",
   "nbconvert_exporter": "python",
   "pygments_lexer": "ipython3",
   "version": "3.6.1"
  }
 },
 "nbformat": 4,
 "nbformat_minor": 0
}